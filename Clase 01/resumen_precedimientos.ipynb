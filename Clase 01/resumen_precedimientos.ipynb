{
 "cells": [
  {
   "cell_type": "markdown",
   "metadata": {},
   "source": [
    "Los procedimientos en SQL son secuencias de comandos o consultas que se almacenan en la base de datos y se pueden ejecutar cuando sea necesario. Los procedimientos se utilizan para realizar tareas específicas en la base de datos de una manera controlada y reutilizable. Aquí tienes un resumen de los procedimientos en SQL:\n",
    "\n",
    "1. Creación de procedimientos:\n",
    "\n",
    "        Para crear un procedimiento en SQL, puedes utilizar el comando CREATE PROCEDURE.\n",
    "Ejemplo de sintaxis:"
   ]
  },
  {
   "cell_type": "code",
   "execution_count": null,
   "metadata": {
    "vscode": {
     "languageId": "sql"
    }
   },
   "outputs": [],
   "source": [
    "DELIMITER $$\n",
    "CREATE PROCEDURE nombre_procedimiento\n",
    "[(@parametro1 tipo_dato1, @parametro2 tipo_dato2, ...)]\n",
    "AS\n",
    "BEGIN\n",
    "   -- Cuerpo del procedimiento\n",
    "END;\n",
    "DELIMITER ;\n",
    "\n",
    "call nombre_procedimiento\n"
   ]
  },
  {
   "cell_type": "markdown",
   "metadata": {},
   "source": [
    "2. Parámetros:\n",
    "\n",
    "        Los procedimientos pueden aceptar parámetros de entrada que se utilizan en las instrucciones SQL dentro del procedimiento. Los parámetros se definen después del nombre del procedimiento."
   ]
  },
  {
   "cell_type": "code",
   "execution_count": null,
   "metadata": {
    "vscode": {
     "languageId": "sql"
    }
   },
   "outputs": [],
   "source": [
    "CREATE PROCEDURE NombreDelProcedimiento\n",
    "@Parametro1 TipoDato,\n",
    "@Parametro2 TipoDato\n",
    "AS\n",
    "BEGIN\n",
    "   -- Instrucciones SQL que utilizan los parámetros\n",
    "END;\n"
   ]
  },
  {
   "cell_type": "markdown",
   "metadata": {},
   "source": [
    "3. Variables locales:\n",
    "\n",
    "        Puedes declarar y utilizar variables locales dentro de un procedimiento para almacenar valores temporales."
   ]
  },
  {
   "cell_type": "code",
   "execution_count": null,
   "metadata": {
    "vscode": {
     "languageId": "sql"
    }
   },
   "outputs": [],
   "source": [
    "DECLARE @VariableLocal TipoDato;\n",
    "SET @VariableLocal = Valor;\n"
   ]
  },
  {
   "cell_type": "markdown",
   "metadata": {},
   "source": [
    "4. MODIFICAR UN PROCEDIMIENTO"
   ]
  },
  {
   "cell_type": "code",
   "execution_count": null,
   "metadata": {
    "vscode": {
     "languageId": "sql"
    }
   },
   "outputs": [],
   "source": [
    "ALTER PROCEDURE NombreDelProcedimiento\n",
    "AS\n",
    "BEGIN\n",
    "   -- Instrucciones SQL modificadas aquí\n",
    "END;\n"
   ]
  }
 ],
 "metadata": {
  "language_info": {
   "name": "python"
  },
  "orig_nbformat": 4
 },
 "nbformat": 4,
 "nbformat_minor": 2
}
