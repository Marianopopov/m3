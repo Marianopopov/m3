{
 "cells": [
  {
   "cell_type": "markdown",
   "metadata": {},
   "source": [
    "En SQL, puedes crear funciones para realizar tareas específicas y reutilizables en tus consultas. Aquí tienes un resumen de cómo hacerlo:\n",
    "\n",
    "1. Definir la estructura de una función:\n",
    "\n",
    "        Utiliza la siguiente sintaxis para crear una función en SQL:"
   ]
  },
  {
   "cell_type": "code",
   "execution_count": null,
   "metadata": {
    "vscode": {
     "languageId": "sql"
    }
   },
   "outputs": [],
   "source": [
    "CREATE FUNCTION nombre_de_la_funcion ([parámetros])\n",
    "RETURNS tipo_de_retorno\n",
    "BEGIN\n",
    "    -- Código de la función\n",
    "    RETURN valor_de_retorno;\n",
    "END;\n",
    "\n",
    "call nombre_de_la_funcion([parámetros])\n"
   ]
  }
 ],
 "metadata": {
  "language_info": {
   "name": "python"
  },
  "orig_nbformat": 4
 },
 "nbformat": 4,
 "nbformat_minor": 2
}
