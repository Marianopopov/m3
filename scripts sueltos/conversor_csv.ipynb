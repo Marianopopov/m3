{
 "cells": [
  {
   "cell_type": "code",
   "execution_count": 2,
   "metadata": {},
   "outputs": [
    {
     "name": "stdout",
     "output_type": "stream",
     "text": [
      "Se ha convertido CanalDeVenta.xlsx a CanalDeVenta.csv\n",
      "Se ha convertido Clientes.xlsx a Clientes.csv\n",
      "Se ha convertido Compra.xlsx a Compra.csv\n",
      "Se ha convertido Gasto.xlsx a Gasto.csv\n",
      "Se ha convertido PRODUCTOS.xlsx a PRODUCTOS.csv\n",
      "Se ha convertido Proveedores.xlsx a Proveedores.csv\n",
      "Se ha convertido TiposDeGasto.xlsx a TiposDeGasto.csv\n",
      "Se ha convertido Venta.xlsx a Venta.csv\n"
     ]
    }
   ],
   "source": [
    "import os\n",
    "import pandas as pd\n",
    "\n",
    "# Ruta de la carpeta con los archivos XLSX y CSV\n",
    "carpeta = r'C:\\Users\\maria\\Desktop\\HENRY\\MOD 3\\Clases\\Clase 04\\Homework'\n",
    "\n",
    "# Lista de archivos en la carpeta\n",
    "archivos = os.listdir(carpeta)\n",
    "\n",
    "# Recorre los archivos en la carpeta\n",
    "for archivo in archivos:\n",
    "    # Verifica si el archivo es un archivo XLSX\n",
    "    if archivo.endswith('.xlsx'):\n",
    "        # Lee el archivo XLSX con pandas\n",
    "        xls_path = os.path.join(carpeta, archivo)\n",
    "        df = pd.read_excel(xls_path)\n",
    "\n",
    "        # Crea el nombre del archivo CSV reemplazando la extensión\n",
    "        csv_nombre = archivo.replace('.xlsx', '.csv')\n",
    "\n",
    "        # Genera la ruta completa para el archivo CSV\n",
    "        csv_path = os.path.join(carpeta, csv_nombre)\n",
    "\n",
    "        # Guarda el DataFrame como archivo CSV\n",
    "        df.to_csv(csv_path, index=False)\n",
    "\n",
    "        print(f'Se ha convertido {archivo} a {csv_nombre}')\n",
    "    a\n"
   ]
  }
 ],
 "metadata": {
  "kernelspec": {
   "display_name": "Python 3",
   "language": "python",
   "name": "python3"
  },
  "language_info": {
   "codemirror_mode": {
    "name": "ipython",
    "version": 3
   },
   "file_extension": ".py",
   "mimetype": "text/x-python",
   "name": "python",
   "nbconvert_exporter": "python",
   "pygments_lexer": "ipython3",
   "version": "3.11.5"
  },
  "orig_nbformat": 4
 },
 "nbformat": 4,
 "nbformat_minor": 2
}
