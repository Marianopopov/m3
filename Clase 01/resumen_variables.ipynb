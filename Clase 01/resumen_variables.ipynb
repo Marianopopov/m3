{
 "cells": [
  {
   "cell_type": "markdown",
   "metadata": {},
   "source": [
    "En SQL, puedes crear y utilizar variables dentro de procedimientos almacenados, desencadenadores (triggers) u otras partes del código SQL. Aquí tienes un resumen de la sintaxis básica para crear variables en SQL:\n",
    "\n",
    "1. Declaración de Variables:\n",
    "\n",
    "        Puedes declarar una variable utilizando la palabra clave DECLARE, seguida del nombre de la variable, su tipo de datos y, opcionalmente, su valor inicial. Aquí tienes un ejemplo:"
   ]
  },
  {
   "cell_type": "code",
   "execution_count": null,
   "metadata": {
    "vscode": {
     "languageId": "sql"
    }
   },
   "outputs": [],
   "source": [
    "DECLARE @miVariable INT;\n",
    "SET @miVariable = 42;\n",
    "\n",
    "-- En este ejemplo, se declara una variable llamada @miVariable de tipo entero (INT) y se le asigna un valor inicial de 42."
   ]
  },
  {
   "cell_type": "markdown",
   "metadata": {},
   "source": [
    "2. Asignación de Valores:\n",
    "            \n",
    "            Puedes asignar valores a variables utilizando la palabra clave SET o el operador de asignación (:=, dependiendo de la base de datos que estés utilizando):"
   ]
  },
  {
   "cell_type": "code",
   "execution_count": null,
   "metadata": {
    "vscode": {
     "languageId": "sql"
    }
   },
   "outputs": [],
   "source": [
    "SET @miVariable = 100;\n",
    "-- O con el operador de asignación:\n",
    "@miVariable := 100;\n"
   ]
  },
  {
   "cell_type": "markdown",
   "metadata": {},
   "source": [
    "3. Uso de Variables:\n",
    "\n",
    "        Puedes utilizar variables en consultas SQL o en otras partes de tu código, como condicionales o bucles. Aquí hay un ejemplo de cómo usar una variable en una consulta:"
   ]
  },
  {
   "cell_type": "code",
   "execution_count": null,
   "metadata": {
    "vscode": {
     "languageId": "sql"
    }
   },
   "outputs": [],
   "source": [
    "SELECT columna1, columna2\n",
    "FROM miTabla\n",
    "WHERE columna3 = @miVariable;\n"
   ]
  },
  {
   "cell_type": "markdown",
   "metadata": {},
   "source": [
    "4. Alcance de Variables:\n",
    "\n",
    "        La visibilidad de las variables en SQL depende de su alcance. En procedimientos almacenados, las variables suelen tener un alcance local, lo que significa que solo están disponibles dentro del procedimiento en el que se declaran. Algunas bases de datos también permiten variables con alcance más amplio.\n",
    "\n"
   ]
  },
  {
   "cell_type": "markdown",
   "metadata": {},
   "source": [
    "5. Eliminación de Variables:\n",
    "\n",
    "        En algunos casos, puedes liberar la memoria ocupada por una variable utilizando la palabra clave DROP o SET para asignarle un valor nulo o vacío, según la base de datos:"
   ]
  },
  {
   "cell_type": "code",
   "execution_count": null,
   "metadata": {
    "vscode": {
     "languageId": "sql"
    }
   },
   "outputs": [],
   "source": [
    "SET @miVariable = NULL;\n",
    "-- Esto libera la variable y la establece en un estado nulo."
   ]
  }
 ],
 "metadata": {
  "kernelspec": {
   "display_name": "Python 3",
   "language": "python",
   "name": "python3"
  },
  "language_info": {
   "codemirror_mode": {
    "name": "ipython",
    "version": 3
   },
   "file_extension": ".py",
   "mimetype": "text/x-python",
   "name": "python",
   "nbconvert_exporter": "python",
   "pygments_lexer": "ipython3",
   "version": "3.11.5"
  },
  "orig_nbformat": 4
 },
 "nbformat": 4,
 "nbformat_minor": 2
}
