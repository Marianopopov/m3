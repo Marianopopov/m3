{
 "cells": [
  {
   "cell_type": "code",
   "execution_count": 8,
   "metadata": {},
   "outputs": [
    {
     "name": "stdout",
     "output_type": "stream",
     "text": [
      "Todo correcto\n"
     ]
    }
   ],
   "source": [
    "#!pip3 install mysql-connector-python #### Descomentar si es que no tienen la librería instalada\n",
    "\n",
    "import mysql.connector\n",
    "\n",
    "connection = mysql.connector.connect(user='root', password=password,\n",
    "                              host='127.0.0.1',\n",
    "                              database='henry_datapt03')\n",
    "\n",
    "import pandas as pd\n",
    "\n",
    "df = pd.read_csv('/Users/aladelca/Downloads/dataset_henry/TiposDeGasto.csv')\n",
    "\n",
    "cursor = connection.cursor()\n",
    "\n",
    "for i,row in df.iterrows():\n",
    "    sql = \"INSERT INTO empleado VALUES (\" + \"%s,\"*(len(row)-1) + \"%s)\"\n",
    "\n",
    "    \n",
    "    cursor.execute(sql, tuple(row))\n",
    "\n",
    "connection.commit()\n",
    "\n",
    "print('Todo correcto')\n",
    "\n",
    "\n"
   ]
  }
 ],
 "metadata": {
  "kernelspec": {
   "display_name": "Python 3.10.5 64-bit",
   "language": "python",
   "name": "python3"
  },
  "language_info": {
   "codemirror_mode": {
    "name": "ipython",
    "version": 3
   },
   "file_extension": ".py",
   "mimetype": "text/x-python",
   "name": "python",
   "nbconvert_exporter": "python",
   "pygments_lexer": "ipython3",
   "version": "3.10.5"
  },
  "orig_nbformat": 4,
  "vscode": {
   "interpreter": {
    "hash": "aee8b7b246df8f9039afb4144a1f6fd8d2ca17a180786b69acc140d282b71a49"
   }
  }
 },
 "nbformat": 4,
 "nbformat_minor": 2
}
